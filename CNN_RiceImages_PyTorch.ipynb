{
 "cells": [
  {
   "cell_type": "markdown",
   "metadata": {
    "id": "1u3ph5JD4-9h"
   },
   "source": [
    "# **Step 1 | Installing and Importing libraries**"
   ]
  },
  {
   "cell_type": "code",
   "execution_count": null,
   "metadata": {
    "id": "amUtF2sHe-cT"
   },
   "outputs": [],
   "source": [
    "!pip install torch\n",
    "!pip install torchvision"
   ]
  },
  {
   "cell_type": "code",
   "execution_count": null,
   "metadata": {
    "colab": {
     "base_uri": "https://localhost:8080/"
    },
    "id": "Aku3_4KzrLnN",
    "outputId": "76959b39-108b-43a5-ac77-ef5ef5530761"
   },
   "outputs": [
    {
     "name": "stdout",
     "output_type": "stream",
     "text": [
      "Collecting split-folders\n",
      "  Downloading split_folders-0.5.1-py3-none-any.whl (8.4 kB)\n",
      "Installing collected packages: split-folders\n",
      "Successfully installed split-folders-0.5.1\n"
     ]
    }
   ],
   "source": [
    "!pip install split-folders"
   ]
  },
  {
   "cell_type": "code",
   "execution_count": null,
   "metadata": {
    "id": "2kFTfgQ5q1OJ"
   },
   "outputs": [],
   "source": [
    "#from google.colab import drive"
   ]
  },
  {
   "cell_type": "code",
   "execution_count": null,
   "metadata": {
    "colab": {
     "base_uri": "https://localhost:8080/"
    },
    "id": "jvMS6fViq6yF",
    "outputId": "04d87c12-be18-4f81-f07a-2f27514a8f57"
   },
   "outputs": [
    {
     "name": "stdout",
     "output_type": "stream",
     "text": [
      "Mounted at /content/drive\n"
     ]
    }
   ],
   "source": [
    "#drive.mount(\"/content/drive\")"
   ]
  },
  {
   "cell_type": "code",
   "execution_count": null,
   "metadata": {
    "id": "-_Nri2lOfbd9"
   },
   "outputs": [],
   "source": [
    "import torch\n",
    "import torchvision\n",
    "import torchvision.transforms as transforms # get arrays from picture and change it to the format that a machine can read it\n",
    "import torch.nn as nn\n",
    "import torch.nn.functional as F\n",
    "import torch.optim as optim\n",
    "\n",
    "# importing dataset\n",
    "import pathlib\n",
    "import splitfolders\n",
    "\n",
    "# visualizations\n",
    "import matplotlib.pyplot as plt\n",
    "import numpy as np"
   ]
  },
  {
   "cell_type": "code",
   "execution_count": 1,
   "metadata": {
    "id": "z8MH3cEEHYoS"
   },
   "outputs": [],
   "source": [
    "import warnings\n",
    "warnings.filterwarnings(\"ignore\")"
   ]
  },
  {
   "cell_type": "markdown",
   "metadata": {
    "id": "070tlat_5FS8"
   },
   "source": [
    "# **Step 2 | Preparing Data**"
   ]
  },
  {
   "cell_type": "code",
   "execution_count": null,
   "metadata": {
    "id": "4BWx3WnZf1tf"
   },
   "outputs": [],
   "source": [
    "#root_path = \"/content/drive/MyDrive/Rice image/rice images/photos\"\n",
    "root_path = \"Rice_Image_Dataset\"\n",
    "root_path = pathlib.Path(root_path)"
   ]
  },
  {
   "cell_type": "code",
   "execution_count": null,
   "metadata": {
    "id": "WIjF3zAmrQZo"
   },
   "outputs": [],
   "source": [
    "# splitting data into Train, Test and Validation\n",
    "splitfolders.ratio(input=root_path, output='rice_images', seed=42, ratio=(0.7, 0.15, 0.15))"
   ]
  },
  {
   "cell_type": "code",
   "execution_count": null,
   "metadata": {
    "id": "dtBYOQc_0jpY"
   },
   "outputs": [],
   "source": [
    "data_direction = \"rice_images\"\n",
    "data_direction = pathlib.Path(data_direction)"
   ]
  },
  {
   "cell_type": "code",
   "execution_count": null,
   "metadata": {
    "id": "FHfBALCk1FlW"
   },
   "outputs": [],
   "source": [
    "data_transform = torchvision.transforms.Compose([transforms.ToTensor(),  # the image is transformed into a tensor and  the pixel values are scaled between 0.0 and 1.0\n",
    "                                                 transforms.Normalize((0.5),(0.5)),\n",
    "                                                 transforms.Resize((100,100))])"
   ]
  },
  {
   "cell_type": "code",
   "execution_count": null,
   "metadata": {
    "colab": {
     "base_uri": "https://localhost:8080/"
    },
    "id": "JRC0ZwvRz5b9",
    "outputId": "820c4231-4e38-4e59-adb3-774e652372a1"
   },
   "outputs": [
    {
     "name": "stdout",
     "output_type": "stream",
     "text": [
      "Tarin Dataset ImageFolder\n",
      "    Number of datapoints: 38921\n",
      "    Root location: rice_images/train\n",
      "    StandardTransform\n",
      "Transform: Compose(\n",
      "               ToTensor()\n",
      "               Normalize(mean=0.5, std=0.5)\n",
      "               Resize(size=(100, 100), interpolation=bilinear, max_size=None, antialias=warn)\n",
      "           ) \n",
      "\n",
      "Validation Dataset ImageFolder\n",
      "    Number of datapoints: 8339\n",
      "    Root location: rice_images/val\n",
      "    StandardTransform\n",
      "Transform: Compose(\n",
      "               ToTensor()\n",
      "               Normalize(mean=0.5, std=0.5)\n",
      "               Resize(size=(100, 100), interpolation=bilinear, max_size=None, antialias=warn)\n",
      "           ) \n",
      "\n",
      "Test Dataset ImageFolder\n",
      "    Number of datapoints: 8343\n",
      "    Root location: rice_images/test\n",
      "    StandardTransform\n",
      "Transform: Compose(\n",
      "               ToTensor()\n",
      "               Normalize(mean=0.5, std=0.5)\n",
      "               Resize(size=(100, 100), interpolation=bilinear, max_size=None, antialias=warn)\n",
      "           ) \n",
      "\n"
     ]
    }
   ],
   "source": [
    "train_set = torchvision.datasets.ImageFolder(data_direction.joinpath(\"train\"), transform=data_transform)\n",
    "print(\"Tarin\", train_set, \"\\n\")\n",
    "train_loader = torch.utils.data.DataLoader(train_set, batch_size=8, shuffle=True, num_workers=2)\n",
    "\n",
    "\n",
    "val_set = torchvision.datasets.ImageFolder(data_direction.joinpath(\"val\"), transform=data_transform)\n",
    "print(\"Validation\", val_set, \"\\n\")\n",
    "val_loader = torch.utils.data.DataLoader(val_set, batch_size=8, shuffle=True, num_workers=2)\n",
    "\n",
    "\n",
    "test_set = torchvision.datasets.ImageFolder(data_direction.joinpath(\"test\"), transform=data_transform)\n",
    "print(\"Test\", test_set, \"\\n\")\n",
    "test_loader = torch.utils.data.DataLoader(test_set, batch_size=8, shuffle=True, num_workers=2)\n",
    "\n",
    "\n",
    "classes = (\"Arborio\", \"Basmati\", \"Ipsala\", \"Jasmine\", \"Karacadag\")"
   ]
  },
  {
   "cell_type": "code",
   "execution_count": null,
   "metadata": {
    "colab": {
     "base_uri": "https://localhost:8080/"
    },
    "id": "l_13ZrcpzGYc",
    "outputId": "d9ebb499-f1a2-48f5-bc5a-f4447522d7b6"
   },
   "outputs": [
    {
     "data": {
      "text/plain": [
       "(torch.Size([3, 100, 100]), 0)"
      ]
     },
     "execution_count": 17,
     "metadata": {},
     "output_type": "execute_result"
    }
   ],
   "source": [
    "# let's see random image and label\n",
    "train_iter = iter(train_set)\n",
    "image, label = next(train_iter)\n",
    "\n",
    "image.shape, label  # the shape of the image is (100,100,3) and it belongs to class 0 which is \"Arborio\"."
   ]
  },
  {
   "cell_type": "code",
   "execution_count": null,
   "metadata": {
    "colab": {
     "base_uri": "https://localhost:8080/",
     "height": 502
    },
    "id": "3vwknhh_zOQi",
    "outputId": "b74992af-287c-4024-a068-544d47007871"
   },
   "outputs": [
    {
     "name": "stderr",
     "output_type": "stream",
     "text": [
      "WARNING:matplotlib.image:Clipping input data to the valid range for imshow with RGB data ([0..1] for floats or [0..255] for integers).\n"
     ]
    },
    {
     "name": "stdout",
     "output_type": "stream",
     "text": [
      "<class 'numpy.ndarray'>\n",
      "Arborio\n"
     ]
    },
    {
     "data": {
      "text/plain": [
       "<matplotlib.image.AxesImage at 0x789dc209a560>"
      ]
     },
     "execution_count": 18,
     "metadata": {},
     "output_type": "execute_result"
    },
    {
     "data": {
      "image/png": "[encoded data removed]",
      "text/plain": [
       "<Figure size 640x480 with 1 Axes>"
      ]
     },
     "metadata": {},
     "output_type": "display_data"
    }
   ],
   "source": [
    "# Visualization\n",
    "img = image.numpy()\n",
    "print(type(img))\n",
    "print(classes[label])\n",
    "plt.imshow(img.reshape((100, 100, 3)))"
   ]
  },
  {
   "cell_type": "markdown",
   "metadata": {
    "id": "keWCkU_75bc8"
   },
   "source": [
    "# Step 3.1 | Building Model 1"
   ]
  },
  {
   "cell_type": "code",
   "execution_count": null,
   "metadata": {
    "id": "kuMkFv9u46xk"
   },
   "outputs": [],
   "source": [
    "# The first model is a simple CNN model\n",
    "class CNN1(nn.Module):\n",
    "  def __init__(self):\n",
    "    super().__init__()\n",
    "\n",
    "    self.model1 = nn.Sequential(                                   # image.shape : [3, 100, 100]\n",
    "       nn.Conv2d(in_channels=3, out_channels=32, kernel_size=3),   # image.shape : [32, 98, 98]\n",
    "       nn.ReLU(),\n",
    "       nn.BatchNorm2d(32),\n",
    "       nn.MaxPool2d(kernel_size=2, stride=2),                      # image.shape : [32, 49, 49]\n",
    "\n",
    "       nn.Flatten(),\n",
    "\n",
    "       nn.Linear(in_features=32*49*49, out_features=64),           # in_features : 32*49*49\n",
    "       nn.ReLU(),\n",
    "       nn.Linear(in_features=64, out_features=5) ,\n",
    "       nn.Softmax()\n",
    "        )\n",
    "\n",
    "\n",
    "  def forward(self, inpt):\n",
    "    return self.model1(inpt)\n"
   ]
  },
  {
   "cell_type": "code",
   "execution_count": null,
   "metadata": {
    "id": "TUhc0v5V460r"
   },
   "outputs": [],
   "source": [
    "# creating an object from the CNN class\n",
    "cnn1 = CNN1()"
   ]
  },
  {
   "cell_type": "code",
   "execution_count": null,
   "metadata": {
    "id": "XXoHMVhe463h"
   },
   "outputs": [],
   "source": [
    "# Loss function and optimizer\n",
    "Loss = nn.CrossEntropyLoss()\n",
    "optimizer = optim.Adam(cnn1.parameters(), lr=0.001)"
   ]
  },
  {
   "cell_type": "code",
   "execution_count": null,
   "metadata": {
    "colab": {
     "base_uri": "https://localhost:8080/"
    },
    "id": "88lsbKYqPSOZ",
    "outputId": "2b7dc853-2f3a-478b-d75f-2b12960496e3"
   },
   "outputs": [
    {
     "name": "stdout",
     "output_type": "stream",
     "text": [
      "Training is done!\n"
     ]
    }
   ],
   "source": [
    "# A function to ecaluate the validation set\n",
    "def Val_Evaluating(validation, Loss, nn_model):\n",
    "    running_loss = 0.0\n",
    "    running_accuracy = 0.0\n",
    "    for img, labels in validation :\n",
    "        predicts = nn_model(img)\n",
    "        predict = torch.argmax(predicts, dim=1)\n",
    "        correct_predictions = torch.sum(labels == predict).item()\n",
    "        running_accuracy += correct_predictions / 8    # 8 is batch_size\n",
    "        loss = Loss(predicts, labels)\n",
    "        running_loss += loss.item()\n",
    "\n",
    "    print(f'va_loss: {running_loss / len(validation)}, val_acc: {running_accuracy / len(validation)}')\n",
    "\n",
    "\"---------------------------------------------------------------------------------------------------------------\"\n",
    "\n",
    "# training function\n",
    "def training(trainloader, nn_model, Loss) :\n",
    "    running_loss = 0.0\n",
    "    running_accuracy = 0.0\n",
    "\n",
    "    for i, data in enumerate(trainloader,0) :\n",
    "        inputs, labels = data\n",
    "\n",
    "        # zero the gradients\n",
    "        optimizer.zero_grad()\n",
    "\n",
    "        # forward pass and predicting y using initial weights\n",
    "        outputs = cnn4(inputs)\n",
    "\n",
    "        # accuracy\n",
    "        correct_predictions = torch.sum(labels == torch.argmax(outputs, dim=1)).item()\n",
    "        running_accuracy += correct_predictions / 8                  # 8 is batch_size\n",
    "\n",
    "        # computing the loss\n",
    "        loss = Loss(outputs, labels)\n",
    "        running_loss += loss.item()\n",
    "\n",
    "        # backward pass and calculating gradients\n",
    "        loss.backward()\n",
    "\n",
    "        # updating weights\n",
    "        optimizer.step()\n",
    "\n",
    "        if i % 2000 == 1999:    # prints every 2000 mini-batches\n",
    "            print(f'[{epoch + 1}, {i + 1:5d}] loss: {running_loss / 2000:.3f}, accuracy: {running_accuracy / 2000:.3f}')\n",
    "            running_loss = 0.0\n",
    "            running_accuracy = 0.0\n",
    "\n",
    "print(\"Training is done!\")\n"
   ]
  },
  {
   "cell_type": "code",
   "execution_count": null,
   "metadata": {
    "colab": {
     "background_save": true,
     "base_uri": "https://localhost:8080/"
    },
    "id": "ibtkE0Ag9pZ8",
    "outputId": "4d6d346b-130e-4c6c-cc81-930bf86a4ae6"
   },
   "outputs": [
    {
     "name": "stdout",
     "output_type": "stream",
     "text": [
      "[1,  2000] loss: 1.017, accuracy: 0.888\n",
      "[1,  4000] loss: 1.013, accuracy: 0.892\n",
      "va_loss: 1.6071516182827241, val_acc: 0.300215723873442\n",
      "Done!\n",
      "[2,  2000] loss: 1.009, accuracy: 0.895\n",
      "[2,  4000] loss: 1.018, accuracy: 0.887\n",
      "va_loss: 1.607139225316985, val_acc: 0.300215723873442\n",
      "Done!\n"
     ]
    }
   ],
   "source": [
    "# Training the model cnn1\n",
    "for epoch in range(2):\n",
    "    training(train_loader, cnn1, Loss)\n",
    "    Val_Evaluating(val_loader, Loss, cnn1)\n",
    "print(\"Done!\")"
   ]
  },
  {
   "cell_type": "markdown",
   "metadata": {
    "id": "LH00viSipBxY"
   },
   "source": [
    "# Step 3.2 | Building model 2"
   ]
  },
  {
   "cell_type": "code",
   "execution_count": null,
   "metadata": {
    "id": "-DdbUP6rpK-T"
   },
   "outputs": [],
   "source": [
    "# second type of classes in Pytorch(Conv + BatchNorm + MAxPool + Conv + BatchNorm + MAxPool is added)\n",
    "\n",
    "class CNN2(nn.Module):\n",
    "  def __init__(self):\n",
    "    super().__init__()\n",
    "\n",
    "    self.model2 = nn.Sequential(                                  # image.shape : [3, 100, 100]\n",
    "       nn.Conv2d(in_channels=3, out_channels=6, kernel_size=5),   # image.shape : [6, 96, 96]\n",
    "       nn.ReLU(),\n",
    "       nn.BatchNorm2d(6),\n",
    "       nn.MaxPool2d(kernel_size=2, stride=2),                     # image.shape : [6, 48, 48]\n",
    "\n",
    "       nn.Conv2d(in_channels=6, out_channels=16, kernel_size=5),  # image.shape : [16, 44, 44]\n",
    "       nn.ReLU(),\n",
    "       nn.BatchNorm2d(16),\n",
    "       nn.MaxPool2d(kernel_size=2, stride=2),                     # image.shape : [16, 22, 22]\n",
    "\n",
    "       nn.Flatten(),\n",
    "\n",
    "       nn.Linear(in_features=16*22*22, out_features=120),         # in_features : 16*22*22\n",
    "       nn.ReLU(),\n",
    "       nn.Dropout(p=0.1),\n",
    "       nn.Linear(in_features=120, out_features=84) ,\n",
    "       nn.ReLU(),\n",
    "       nn.Linear(in_features=84, out_features=5) ,\n",
    "       nn.Softmax()\n",
    "        )\n",
    "\n",
    "\n",
    "  def forward(self, inpt):\n",
    "    return self.model2(inpt)\n"
   ]
  },
  {
   "cell_type": "code",
   "execution_count": null,
   "metadata": {
    "id": "w50RJL5spLBe"
   },
   "outputs": [],
   "source": [
    "# creating an object from the CNN class\n",
    "cnn2 = CNN2()"
   ]
  },
  {
   "cell_type": "code",
   "execution_count": null,
   "metadata": {
    "id": "MUIhQ7jNpLEY"
   },
   "outputs": [],
   "source": [
    "# Loss function and optimizer\n",
    "Loss = nn.CrossEntropyLoss()\n",
    "optimizer = optim.Adam(cnn2.parameters(), lr=0.001)"
   ]
  },
  {
   "cell_type": "code",
   "execution_count": null,
   "metadata": {
    "colab": {
     "base_uri": "https://localhost:8080/"
    },
    "id": "KAsY1Gao9WYs",
    "outputId": "30fde664-b2c4-4bee-c202-593339b22627"
   },
   "outputs": [
    {
     "name": "stdout",
     "output_type": "stream",
     "text": [
      "[1,  2000] loss: 1.013, accuracy: 0.891\n",
      "[1,  4000] loss: 1.008, accuracy: 0.897\n",
      "va_loss: 0.9756411659180375, val_acc: 0.9284515819750719\n",
      "[2,  2000] loss: 1.009, accuracy: 0.896\n",
      "[2,  4000] loss: 0.988, accuracy: 0.917\n",
      "va_loss: 1.0128098369673366, val_acc: 0.8915388302972196\n",
      "Done!\n"
     ]
    }
   ],
   "source": [
    "# Training the model cnn2 using 2 epochs\n",
    "for epoch in range(2):\n",
    "    training(train_loader, cnn2, Loss)\n",
    "    Val_Evaluating(val_loader, Loss, cnn2)\n",
    "print(\"Done!\")"
   ]
  },
  {
   "cell_type": "code",
   "execution_count": null,
   "metadata": {
    "colab": {
     "base_uri": "https://localhost:8080/"
    },
    "id": "aEbqjw1zeayh",
    "outputId": "19ba07fe-26a4-49e4-ad42-c8c2f18e8b4d"
   },
   "outputs": [
    {
     "name": "stdout",
     "output_type": "stream",
     "text": [
      "[1,  2000] loss: 1.004, accuracy: 0.900\n",
      "[1,  4000] loss: 0.997, accuracy: 0.908\n",
      "va_loss: 0.9478412265402701, val_acc: 0.9560162991371045\n",
      "[2,  2000] loss: 0.999, accuracy: 0.906\n",
      "[2,  4000] loss: 0.990, accuracy: 0.915\n",
      "va_loss: 0.9886315807285839, val_acc: 0.9155081495685522\n",
      "[3,  2000] loss: 0.979, accuracy: 0.926\n",
      "[3,  4000] loss: 0.982, accuracy: 0.922\n",
      "va_loss: 1.1342511483372573, val_acc: 0.7698945349952061\n",
      "[4,  2000] loss: 1.047, accuracy: 0.857\n",
      "[4,  4000] loss: 1.065, accuracy: 0.840\n",
      "va_loss: 1.144649437609935, val_acc: 0.7597075743048898\n",
      "[5,  2000] loss: 1.029, accuracy: 0.876\n",
      "[5,  4000] loss: 0.986, accuracy: 0.919\n",
      "va_loss: 0.9896482845280794, val_acc: 0.914549376797699\n",
      "Done!\n"
     ]
    }
   ],
   "source": [
    "# Training the model cnn2 using 5 epochs\n",
    "for epoch in range(5):\n",
    "    training(train_loader, cnn2, Loss)\n",
    "    Val_Evaluating(val_loader, Loss, cnn2)\n",
    "print(\"Done!\")"
   ]
  },
  {
   "cell_type": "markdown",
   "metadata": {
    "id": "xFK_OOgUerN7"
   },
   "source": [
    "# Step 4 | Saving the best model"
   ]
  },
  {
   "cell_type": "code",
   "execution_count": null,
   "metadata": {
    "id": "ySmIoWyyexmZ"
   },
   "outputs": [],
   "source": [
    "# choosing the best model\n",
    "best_model = cnn2\n",
    "# saving it\n",
    "path = \"./RiceNet.pth\"\n",
    "torch.save(best_model.state_dict(), path)"
   ]
  }
 ],
 "metadata": {
  "colab": {
   "collapsed_sections": [
    "1u3ph5JD4-9h",
    "070tlat_5FS8",
    "keWCkU_75bc8",
    "LH00viSipBxY",
    "xFK_OOgUerN7"
   ],
   "provenance": []
  },
  "kernelspec": {
   "display_name": "Python 3 (ipykernel)",
   "language": "python",
   "name": "python3"
  },
  "language_info": {
   "codemirror_mode": {
    "name": "ipython",
    "version": 3
   },
   "file_extension": ".py",
   "mimetype": "text/x-python",
   "name": "python",
   "nbconvert_exporter": "python",
   "pygments_lexer": "ipython3",
   "version": "3.9.12"
  }
 },
 "nbformat": 4,
 "nbformat_minor": 1
}
