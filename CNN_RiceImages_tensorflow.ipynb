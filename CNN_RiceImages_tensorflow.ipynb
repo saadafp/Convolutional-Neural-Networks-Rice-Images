{
 "cells": [
  {
   "cell_type": "markdown",
   "metadata": {
    "id": "ByzRUGCbqcXf"
   },
   "source": [
    "# Step 1 | Importing libraries"
   ]
  },
  {
   "cell_type": "code",
   "execution_count": null,
   "metadata": {
    "id": "aS5aYYVeB9UJ"
   },
   "outputs": [],
   "source": [
    "#from google.colab import drive"
   ]
  },
  {
   "cell_type": "code",
   "execution_count": null,
   "metadata": {
    "colab": {
     "base_uri": "https://localhost:8080/"
    },
    "id": "RUP10qNdDtib",
    "outputId": "7796039a-60a2-4ed8-cc28-40227c0977bb"
   },
   "outputs": [
    {
     "name": "stdout",
     "output_type": "stream",
     "text": [
      "Mounted at /content/drive\n"
     ]
    }
   ],
   "source": [
    "#drive.mount(\"/content/drive\")"
   ]
  },
  {
   "cell_type": "code",
   "execution_count": null,
   "metadata": {
    "colab": {
     "base_uri": "https://localhost:8080/"
    },
    "id": "9ZpMNlHtDe1c",
    "outputId": "446d26cd-a242-4f7c-84cb-18ff8853b704"
   },
   "outputs": [
    {
     "name": "stdout",
     "output_type": "stream",
     "text": [
      "Collecting split-folders\n",
      "  Downloading split_folders-0.5.1-py3-none-any.whl (8.4 kB)\n",
      "Installing collected packages: split-folders\n",
      "Successfully installed split-folders-0.5.1\n"
     ]
    }
   ],
   "source": [
    "!pip install split-folders"
   ]
  },
  {
   "cell_type": "code",
   "execution_count": null,
   "metadata": {
    "id": "nwjjRrE_gcXL"
   },
   "outputs": [],
   "source": [
    "import tensorflow as tf\n",
    "from tensorflow import keras\n",
    "from tensorflow.keras.layers import Dense, Dropout, Activation, Flatten, BatchNormalization\n",
    "from tensorflow.keras.layers import Conv2D, MaxPool2D, Dropout\n",
    "\n",
    "# importing dataset\n",
    "import pathlib\n",
    "\n",
    "import splitfolders\n",
    "\n",
    "# visualization\n",
    "import matplotlib.pyplot as plt\n",
    "import numpy as np\n"
   ]
  },
  {
   "cell_type": "markdown",
   "metadata": {
    "id": "yFY_AaPxLC78"
   },
   "source": [
    "# Step 2 | Preparing Data"
   ]
  },
  {
   "cell_type": "code",
   "execution_count": null,
   "metadata": {
    "id": "cH-Hba_bC4yN"
   },
   "outputs": [],
   "source": [
    "#root_path = \"/content/drive/MyDrive/rice images/photos\"\n",
    "root_path = \"Rice_Image_Dataset\"\n",
    "root_path = pathlib.Path(root_path)"
   ]
  },
  {
   "cell_type": "code",
   "execution_count": null,
   "metadata": {
    "id": "2QWWQDGKC42i"
   },
   "outputs": [],
   "source": [
    "# splitting data into Train, Test and Validation\n",
    "splitfolders.ratio(input=root_path, output='rice_images', seed=42, ratio=(0.7, 0.15, 0.15))"
   ]
  },
  {
   "cell_type": "code",
   "execution_count": null,
   "metadata": {
    "colab": {
     "base_uri": "https://localhost:8080/"
    },
    "id": "wRGxAHVcmpG5",
    "outputId": "9166e2d8-1d03-458d-f9b3-a509da291d70"
   },
   "outputs": [
    {
     "name": "stdout",
     "output_type": "stream",
     "text": [
      "Found 38921 files belonging to 5 classes.\n",
      "Found 8343 files belonging to 5 classes.\n",
      "Found 8339 files belonging to 5 classes.\n"
     ]
    }
   ],
   "source": [
    "Train = keras.utils.image_dataset_from_directory(\n",
    "    directory=\"rice_images/train\",\n",
    "    labels=\"inferred\",\n",
    "    label_mode=\"categorical\",\n",
    "    batch_size=32,\n",
    "    image_size=(256,256))\n",
    "\n",
    "\n",
    "Test = keras.utils.image_dataset_from_directory(\n",
    "    directory=\"rice_images/test\",\n",
    "    labels=\"inferred\",\n",
    "    label_mode=\"categorical\",\n",
    "    batch_size=32,\n",
    "    image_size=(256,256))\n",
    "\n",
    "\n",
    "Validation = keras.utils.image_dataset_from_directory(\n",
    "    directory=\"rice_images/val\",\n",
    "    labels=\"inferred\",\n",
    "    label_mode=\"categorical\",\n",
    "    batch_size=32,\n",
    "    image_size=(256,256))"
   ]
  },
  {
   "cell_type": "code",
   "execution_count": null,
   "metadata": {
    "colab": {
     "base_uri": "https://localhost:8080/"
    },
    "id": "Hk7MYcBmmpP1",
    "outputId": "9436abb1-e753-46de-c726-df4b9a705a4a"
   },
   "outputs": [
    {
     "name": "stdout",
     "output_type": "stream",
     "text": [
      "['Arborio', 'Basmati', 'Ipsala', 'Jasmine', 'Karacadag']\n",
      "['Arborio', 'Basmati', 'Ipsala', 'Jasmine', 'Karacadag']\n",
      "['Arborio', 'Basmati', 'Ipsala', 'Jasmine', 'Karacadag']\n"
     ]
    }
   ],
   "source": [
    "# Let's check class names\n",
    "print(Train.class_names)\n",
    "print(Test.class_names)\n",
    "print(Validation.class_names)"
   ]
  },
  {
   "cell_type": "code",
   "execution_count": null,
   "metadata": {
    "colab": {
     "base_uri": "https://localhost:8080/"
    },
    "id": "up08FHzfpIun",
    "outputId": "848a737b-994f-4def-81ce-a11a01a50aa4"
   },
   "outputs": [
    {
     "name": "stdout",
     "output_type": "stream",
     "text": [
      "(torch.Size([32, 256, 256]), 2)\n"
     ]
    }
   ],
   "source": [
    "# let's see a random image and its label\n",
    "train_iter = iter(Train)\n",
    "image, label = next(train_iter)\n",
    "\n",
    "image.shape, label  # the shape of the image is [32, 256, 256] and it belongs to class 2 which is \"Ipsala\"."
   ]
  },
  {
   "cell_type": "markdown",
   "metadata": {
    "id": "KWMpJR-6p6bQ"
   },
   "source": [
    "# Step 3 | Building Neural Network Models"
   ]
  },
  {
   "cell_type": "markdown",
   "metadata": {
    "id": "P49TRhZ7Xv7v"
   },
   "source": [
    "# Model 1"
   ]
  },
  {
   "cell_type": "code",
   "execution_count": null,
   "metadata": {
    "colab": {
     "base_uri": "https://localhost:8080/"
    },
    "id": "UKE4W4gimphe",
    "outputId": "63a27c22-8fef-467b-bfbe-82399d3b4b7c"
   },
   "outputs": [
    {
     "name": "stdout",
     "output_type": "stream",
     "text": [
      "Model: \"sequential_1\"\n",
      "_________________________________________________________________\n",
      " Layer (type)                Output Shape              Param #   \n",
      "=================================================================\n",
      " conv2d_1 (Conv2D)           (None, 254, 254, 32)      896       \n",
      "                                                                 \n",
      " max_pooling2d_1 (MaxPooling  (None, 127, 127, 32)     0         \n",
      " 2D)                                                             \n",
      "                                                                 \n",
      " flatten_1 (Flatten)         (None, 516128)            0         \n",
      "                                                                 \n",
      " dense_2 (Dense)             (None, 512)               264258048 \n",
      "                                                                 \n",
      " dense_3 (Dense)             (None, 5)                 2565      \n",
      "                                                                 \n",
      "=================================================================\n",
      "Total params: 264,261,509\n",
      "Trainable params: 264,261,509\n",
      "Non-trainable params: 0\n",
      "_________________________________________________________________\n"
     ]
    }
   ],
   "source": [
    "# Creating CNN model using one conv layer + one pooling layer + two dense layer. Also the activation function is ReLU.\n",
    "\n",
    "cnn1 = tf.keras.models.Sequential()\n",
    "\n",
    "cnn1.add(Conv2D(filters=32, kernel_size=3, activation=\"relu\", input_shape=[256,256,3]))\n",
    "cnn1.add(MaxPool2D(pool_size=2, strides=2))\n",
    "cnn1.add(Flatten())\n",
    "cnn1.add(Dense(units=512, activation=\"relu\"))\n",
    "cnn1.add(Dense(units=5, activation=\"relu\"))\n",
    "\n",
    "# summary\n",
    "cnn1.summary()\n"
   ]
  },
  {
   "cell_type": "code",
   "execution_count": null,
   "metadata": {
    "colab": {
     "base_uri": "https://localhost:8080/"
    },
    "id": "OqRHrnYTU-dU",
    "outputId": "08860933-589a-4461-fe8d-7f47d36b4a48"
   },
   "outputs": [
    {
     "name": "stdout",
     "output_type": "stream",
     "text": [
      "Epoch 1/3\n",
      "1217/1217 [==============================] - 119s 96ms/step - loss: 6.3623 - accuracy: 0.1891 - val_loss: 6.3623 - val_accuracy: 0.1890\n",
      "Epoch 2/3\n",
      "1217/1217 [==============================] - 115s 94ms/step - loss: 6.3623 - accuracy: 0.1891 - val_loss: 6.3623 - val_accuracy: 0.1890\n",
      "Epoch 3/3\n",
      "1217/1217 [==============================] - 120s 98ms/step - loss: 6.3623 - accuracy: 0.1891 - val_loss: 6.3623 - val_accuracy: 0.1890\n"
     ]
    }
   ],
   "source": [
    "# Training the model\n",
    "cnn1.compile(optimizer=\"adam\", loss=\"binary_crossentropy\", metrics=\"accuracy\")\n",
    "model1 = cnn1.fit(x=Train, validation_data= Validation, epochs=3)"
   ]
  },
  {
   "cell_type": "code",
   "execution_count": null,
   "metadata": {
    "id": "EP4vDIvVr5ex"
   },
   "outputs": [],
   "source": [
    "# plot for accuracy\n",
    "def accuracy_plot(model):\n",
    "  line1 = plt.plot(model.history[\"accuracy\"], marker=\"o\")\n",
    "  line2 = plt.plot(model.history[\"val_accuracy\"], marker=\"h\")\n",
    "  plt.xlabel(\"Epochs\")\n",
    "  plt.ylabel(\"Accuracy\")\n",
    "  plt.legend([\"Train\", \"test\"])\n",
    "  plt.show()\n",
    "\n",
    "\n",
    "# plot for loss\n",
    "def loss_plot(model):\n",
    "  line1 = plt.plot(model.history[\"loss\"], marker=\"o\")\n",
    "  line2 = plt.plot(model.history[\"val_loss\"], marker=\"h\")\n",
    "  plt.xlabel(\"Epochs\")\n",
    "  plt.ylabel(\"loss\")\n",
    "  plt.legend([\"Train\", \"test\"])\n",
    "  plt.show()"
   ]
  },
  {
   "cell_type": "code",
   "execution_count": null,
   "metadata": {
    "colab": {
     "base_uri": "https://localhost:8080/",
     "height": 465
    },
    "id": "vjvD6LmjAbUL",
    "outputId": "a2d7a97f-73dc-400f-9377-c41e2f5cbeed"
   },
   "outputs": [
    {
     "data": {
      "image/png": "[encoded data removed]",
      "text/plain": [
       "<Figure size 640x480 with 1 Axes>"
      ]
     },
     "metadata": {},
     "output_type": "display_data"
    }
   ],
   "source": [
    "accuracy_plot(model1)"
   ]
  },
  {
   "cell_type": "code",
   "execution_count": null,
   "metadata": {
    "colab": {
     "base_uri": "https://localhost:8080/",
     "height": 465
    },
    "id": "F-iNDOn5AeuM",
    "outputId": "2f4cb88c-bd14-4ac2-a4ea-3fdee2a953e3"
   },
   "outputs": [
    {
     "data": {
      "image/png": "[encoded data removed]",
      "text/plain": [
       "<Figure size 640x480 with 1 Axes>"
      ]
     },
     "metadata": {},
     "output_type": "display_data"
    }
   ],
   "source": [
    "loss_plot(model1)"
   ]
  },
  {
   "cell_type": "markdown",
   "metadata": {
    "id": "EtYacS538r17"
   },
   "source": [
    "# Model 2"
   ]
  },
  {
   "cell_type": "code",
   "execution_count": null,
   "metadata": {
    "colab": {
     "base_uri": "https://localhost:8080/"
    },
    "id": "0Lf6pljTsutH",
    "outputId": "cf03113e-f8f1-43f4-ee4a-eac62a6facba"
   },
   "outputs": [
    {
     "name": "stdout",
     "output_type": "stream",
     "text": [
      "Model: \"sequential\"\n",
      "_________________________________________________________________\n",
      " Layer (type)                Output Shape              Param #   \n",
      "=================================================================\n",
      " conv2d (Conv2D)             (None, 254, 254, 32)      896       \n",
      "                                                                 \n",
      " max_pooling2d (MaxPooling2D  (None, 127, 127, 32)     0         \n",
      " )                                                               \n",
      "                                                                 \n",
      " flatten (Flatten)           (None, 516128)            0         \n",
      "                                                                 \n",
      " dense (Dense)               (None, 512)               264258048 \n",
      "                                                                 \n",
      " dropout (Dropout)           (None, 512)               0         \n",
      "                                                                 \n",
      " dense_1 (Dense)             (None, 5)                 2565      \n",
      "                                                                 \n",
      "=================================================================\n",
      "Total params: 264,261,509\n",
      "Trainable params: 264,261,509\n",
      "Non-trainable params: 0\n",
      "_________________________________________________________________\n"
     ]
    }
   ],
   "source": [
    "# cnn model (regularization, sigmoid activation and dropout layer, were added)\n",
    "cnn2 = tf.keras.models.Sequential()\n",
    "\n",
    "cnn2.add(Conv2D(filters=32, kernel_size=3, activation=\"relu\", input_shape=[256,256,3], kernel_regularizer=\"l2\"))\n",
    "cnn2.add(MaxPool2D(pool_size=2, strides=2))\n",
    "cnn2.add(Flatten())\n",
    "cnn2.add(Dense(units=512, activation=\"relu\", kernel_regularizer=\"l2\" ))\n",
    "cnn2.add(Dropout(0.5))\n",
    "cnn2.add(Dense(units=5, activation=\"softmax\", kernel_regularizer=\"l2\"))\n",
    "\n",
    "# Summary\n",
    "cnn2.summary()"
   ]
  },
  {
   "cell_type": "code",
   "execution_count": null,
   "metadata": {
    "colab": {
     "base_uri": "https://localhost:8080/"
    },
    "id": "IwoJWELXxtC1",
    "outputId": "4c706065-5151-4c7f-b044-3fcf8b88bd0e"
   },
   "outputs": [
    {
     "name": "stdout",
     "output_type": "stream",
     "text": [
      "Epoch 1/5\n",
      "1217/1217 [==============================] - 146s 117ms/step - loss: 60.0245 - accuracy: 0.8988 - val_loss: 4.6370 - val_accuracy: 0.9716\n",
      "Epoch 2/5\n",
      "1217/1217 [==============================] - 141s 116ms/step - loss: 3.1775 - accuracy: 0.9001 - val_loss: 1.9673 - val_accuracy: 0.9608\n",
      "Epoch 3/5\n",
      "1217/1217 [==============================] - 142s 116ms/step - loss: 1.6300 - accuracy: 0.8982 - val_loss: 1.4107 - val_accuracy: 0.9183\n",
      "Epoch 4/5\n",
      "1217/1217 [==============================] - 140s 115ms/step - loss: 1.4376 - accuracy: 0.8949 - val_loss: 1.1421 - val_accuracy: 0.9801\n",
      "Epoch 5/5\n",
      "1217/1217 [==============================] - 138s 113ms/step - loss: 1.3819 - accuracy: 0.8961 - val_loss: 1.5388 - val_accuracy: 0.9418\n"
     ]
    }
   ],
   "source": [
    "cnn2.compile(optimizer=\"adam\", loss=\"CategoricalCrossentropy\", metrics=\"accuracy\")\n",
    "model2 = cnn2.fit(x=Train, validation_data=Validation, epochs=5)"
   ]
  },
  {
   "cell_type": "code",
   "execution_count": null,
   "metadata": {
    "colab": {
     "base_uri": "https://localhost:8080/",
     "height": 449
    },
    "id": "SsEi-tN8x6C6",
    "outputId": "435cf416-f8f5-48ed-91ef-10862d4b9d63"
   },
   "outputs": [
    {
     "data": {
      "image/png": "[encoded data removed]",
      "text/plain": [
       "<Figure size 640x480 with 1 Axes>"
      ]
     },
     "metadata": {},
     "output_type": "display_data"
    }
   ],
   "source": [
    "accuracy_plot(model2)"
   ]
  },
  {
   "cell_type": "code",
   "execution_count": null,
   "metadata": {
    "colab": {
     "base_uri": "https://localhost:8080/",
     "height": 449
    },
    "id": "enVcZy8Ax7t6",
    "outputId": "7e34d417-ab4c-4b0d-de74-4e4f02d0ff34"
   },
   "outputs": [
    {
     "data": {
      "image/png": "[encoded data removed]",
      "text/plain": [
       "<Figure size 640x480 with 1 Axes>"
      ]
     },
     "metadata": {},
     "output_type": "display_data"
    }
   ],
   "source": [
    "loss_plot(model2)"
   ]
  },
  {
   "cell_type": "markdown",
   "metadata": {
    "id": "lJOqU7AeaA_G"
   },
   "source": [
    "# Step 4 |  Saving the best model"
   ]
  },
  {
   "cell_type": "code",
   "execution_count": null,
   "metadata": {
    "id": "e7IvHAeZqnUV"
   },
   "outputs": [],
   "source": [
    "# choosing the best model\n",
    "best_model = cnn2\n",
    "\n",
    "# saving the best model\n",
    "best_model.save(\"CNN_Model.h5\")"
   ]
  }
 ],
 "metadata": {
  "accelerator": "GPU",
  "colab": {
   "collapsed_sections": [
    "ByzRUGCbqcXf",
    "yFY_AaPxLC78",
    "P49TRhZ7Xv7v",
    "EtYacS538r17",
    "lJOqU7AeaA_G"
   ],
   "gpuType": "T4",
   "provenance": []
  },
  "kernelspec": {
   "display_name": "Python 3 (ipykernel)",
   "language": "python",
   "name": "python3"
  },
  "language_info": {
   "codemirror_mode": {
    "name": "ipython",
    "version": 3
   },
   "file_extension": ".py",
   "mimetype": "text/x-python",
   "name": "python",
   "nbconvert_exporter": "python",
   "pygments_lexer": "ipython3",
   "version": "3.9.12"
  }
 },
 "nbformat": 4,
 "nbformat_minor": 1
}
